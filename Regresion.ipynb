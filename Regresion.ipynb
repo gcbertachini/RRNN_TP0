{
 "cells": [
  {
   "cell_type": "markdown",
   "id": "7905d51f-03c3-4a35-aa0d-46be87129e52",
   "metadata": {},
   "source": [
    "**Autor: German Bertachini - 58750**"
   ]
  },
  {
   "cell_type": "markdown",
   "id": "66e18dde-6e95-4b2d-8bb0-074456984628",
   "metadata": {},
   "source": [
    "# Redes Neuronales - Trabajo Practico N1"
   ]
  },
  {
   "cell_type": "markdown",
   "id": "20523ee3-7d3d-4257-866d-a5c0b1ea25df",
   "metadata": {},
   "source": [
    "## Problema de regresión"
   ]
  },
  {
   "cell_type": "markdown",
   "id": "5343d8c6-809b-4417-85cb-d307856a4d82",
   "metadata": {},
   "source": [
    "Se cuenta con el siguiente [dataset](https://archive.ics.uci.edu/ml/datasets/Physicochemical+Properties+of+Protein+Tertiary+Structure) para formar para construir un algoritmo predictor.\n"
   ]
  },
  {
   "cell_type": "markdown",
   "id": "7d901b50-9e1d-45fb-8665-a12e61f39be1",
   "metadata": {},
   "source": [
    "### Librerías a utilizar"
   ]
  },
  {
   "cell_type": "code",
   "execution_count": 19,
   "id": "58c2e43a-273d-4116-ba53-39757d60dd3e",
   "metadata": {},
   "outputs": [],
   "source": [
    "import pandas as pd\n",
    "import numpy as np\n",
    "import scipy as sp\n",
    "import seaborn as sns\n",
    "import matplotlib.pyplot as plt\n",
    "from sklearn.preprocessing import LabelEncoder\n",
    "from sklearn.model_selection import train_test_split, RepeatedStratifiedKFold, cross_val_score\n",
    "from sklearn.linear_model import LinearRegression\n",
    "from sklearn.preprocessing import PolynomialFeatures\n",
    "from sklearn.metrics import roc_curve, auc, confusion_matrix, classification_report, roc_auc_score, mean_squared_error, r2_score\n",
    "from tensorflow.keras.models import Sequential, Model\n",
    "from tensorflow.keras.layers import Dense\n",
    "from tensorflow.keras.optimizers import SGD, Adam, RMSprop"
   ]
  },
  {
   "cell_type": "markdown",
   "id": "ae70b021-6590-48a5-b0db-1b102469587c",
   "metadata": {},
   "source": [
    "#### Armamos nuestro dataframe usando Pandas"
   ]
  },
  {
   "cell_type": "code",
   "execution_count": 2,
   "id": "341f69e3-58d6-430d-afc0-9ccd4e700fa1",
   "metadata": {},
   "outputs": [],
   "source": [
    "#features\n",
    "features = ['F1','F2','F3','F4','F5','F6','F7','F8','F9']\n",
    "RMSD =['RMSD']\n",
    "cols= RMSD + features\n",
    "data_frame= pd.read_csv('CASP.csv', sep=',')\n",
    "df_RMSD=data_frame[\"RMSD\"]\n",
    "data_frame.drop(columns=\"RMSD\", inplace=True)"
   ]
  },
  {
   "cell_type": "markdown",
   "id": "6f52b52a-8de9-4c8c-9d40-a052ea57e212",
   "metadata": {},
   "source": [
    "Se analiza el data frame obtenido buscando patrones. Contamos con 1483 muestras de de un subconjunto de 10 clases de proteneinas, las cuales se tienen asociadas 8 parametros."
   ]
  },
  {
   "cell_type": "code",
   "execution_count": 4,
   "id": "cecd1a8b-bf1b-438c-ae9f-67a1269f4cf3",
   "metadata": {
    "tags": []
   },
   "outputs": [
    {
     "name": "stdout",
     "output_type": "stream",
     "text": [
      "(45730, 9)\n"
     ]
    }
   ],
   "source": [
    "print(data_frame.shape)"
   ]
  },
  {
   "cell_type": "code",
   "execution_count": 106,
   "id": "bea7e00e-2f21-4e40-80af-337ee1b3d921",
   "metadata": {},
   "outputs": [
    {
     "data": {
      "text/plain": [
       "0    17.284\n",
       "1     6.021\n",
       "2     9.275\n",
       "3    15.851\n",
       "4     7.962\n",
       "Name: RMSD, dtype: float64"
      ]
     },
     "execution_count": 106,
     "metadata": {},
     "output_type": "execute_result"
    }
   ],
   "source": [
    "df_RMSD.head()"
   ]
  },
  {
   "cell_type": "markdown",
   "id": "e74fde99-cc1a-4ab6-a873-a9ecae51724b",
   "metadata": {},
   "source": [
    "### Normalizamos nuestro dataset\n",
    "Resulta obligatorio normalizar nuestro dataset al tratarse de un caso de regresión."
   ]
  },
  {
   "cell_type": "code",
   "execution_count": 6,
   "id": "1fb85319-d1dc-4d65-8a21-1d62a2ebf55a",
   "metadata": {},
   "outputs": [],
   "source": [
    "data_frame=((data_frame-data_frame.mean())/data_frame.std())/data_frame.max()"
   ]
  },
  {
   "cell_type": "code",
   "execution_count": 23,
   "id": "caa97912-2c49-4300-b43a-59003adcdb0a",
   "metadata": {},
   "outputs": [],
   "source": [
    "normalized_df=pd.concat([data_frame,df_RMSD],axis=1)"
   ]
  },
  {
   "cell_type": "code",
   "execution_count": 8,
   "id": "13559014-80b2-422b-a888-fbc3d626303a",
   "metadata": {
    "tags": []
   },
   "outputs": [
    {
     "data": {
      "text/html": [
       "<div>\n",
       "<style scoped>\n",
       "    .dataframe tbody tr th:only-of-type {\n",
       "        vertical-align: middle;\n",
       "    }\n",
       "\n",
       "    .dataframe tbody tr th {\n",
       "        vertical-align: top;\n",
       "    }\n",
       "\n",
       "    .dataframe thead th {\n",
       "        text-align: right;\n",
       "    }\n",
       "</style>\n",
       "<table border=\"1\" class=\"dataframe\">\n",
       "  <thead>\n",
       "    <tr style=\"text-align: right;\">\n",
       "      <th></th>\n",
       "      <th>F1</th>\n",
       "      <th>F2</th>\n",
       "      <th>F3</th>\n",
       "      <th>F4</th>\n",
       "      <th>F5</th>\n",
       "      <th>F6</th>\n",
       "      <th>F7</th>\n",
       "      <th>F8</th>\n",
       "      <th>F9</th>\n",
       "      <th>RMSD</th>\n",
       "    </tr>\n",
       "  </thead>\n",
       "  <tbody>\n",
       "    <tr>\n",
       "      <th>0</th>\n",
       "      <td>0.000023</td>\n",
       "      <td>0.000057</td>\n",
       "      <td>0.416976</td>\n",
       "      <td>0.002867</td>\n",
       "      <td>1.634555e-07</td>\n",
       "      <td>0.001664</td>\n",
       "      <td>0.000001</td>\n",
       "      <td>0.001620</td>\n",
       "      <td>-0.022660</td>\n",
       "      <td>17.284</td>\n",
       "    </tr>\n",
       "    <tr>\n",
       "      <th>1</th>\n",
       "      <td>-0.000023</td>\n",
       "      <td>-0.000062</td>\n",
       "      <td>-1.108272</td>\n",
       "      <td>-0.002448</td>\n",
       "      <td>-1.830124e-07</td>\n",
       "      <td>-0.001395</td>\n",
       "      <td>-0.000003</td>\n",
       "      <td>-0.001567</td>\n",
       "      <td>0.012166</td>\n",
       "      <td>6.021</td>\n",
       "    </tr>\n",
       "    <tr>\n",
       "      <th>2</th>\n",
       "      <td>-0.000013</td>\n",
       "      <td>-0.000058</td>\n",
       "      <td>-2.173551</td>\n",
       "      <td>-0.001769</td>\n",
       "      <td>-9.481921e-08</td>\n",
       "      <td>-0.001524</td>\n",
       "      <td>-0.000005</td>\n",
       "      <td>-0.002072</td>\n",
       "      <td>0.012968</td>\n",
       "      <td>9.275</td>\n",
       "    </tr>\n",
       "    <tr>\n",
       "      <th>3</th>\n",
       "      <td>-0.000009</td>\n",
       "      <td>-0.000029</td>\n",
       "      <td>-0.585817</td>\n",
       "      <td>-0.001742</td>\n",
       "      <td>-5.113615e-08</td>\n",
       "      <td>-0.000864</td>\n",
       "      <td>-0.000004</td>\n",
       "      <td>0.000001</td>\n",
       "      <td>0.013733</td>\n",
       "      <td>15.851</td>\n",
       "    </tr>\n",
       "    <tr>\n",
       "      <th>4</th>\n",
       "      <td>-0.000015</td>\n",
       "      <td>-0.000057</td>\n",
       "      <td>-1.915627</td>\n",
       "      <td>-0.002495</td>\n",
       "      <td>-1.125187e-07</td>\n",
       "      <td>-0.001220</td>\n",
       "      <td>-0.000006</td>\n",
       "      <td>-0.001465</td>\n",
       "      <td>0.016303</td>\n",
       "      <td>7.962</td>\n",
       "    </tr>\n",
       "  </tbody>\n",
       "</table>\n",
       "</div>"
      ],
      "text/plain": [
       "         F1        F2        F3        F4            F5        F6        F7  \\\n",
       "0  0.000023  0.000057  0.416976  0.002867  1.634555e-07  0.001664  0.000001   \n",
       "1 -0.000023 -0.000062 -1.108272 -0.002448 -1.830124e-07 -0.001395 -0.000003   \n",
       "2 -0.000013 -0.000058 -2.173551 -0.001769 -9.481921e-08 -0.001524 -0.000005   \n",
       "3 -0.000009 -0.000029 -0.585817 -0.001742 -5.113615e-08 -0.000864 -0.000004   \n",
       "4 -0.000015 -0.000057 -1.915627 -0.002495 -1.125187e-07 -0.001220 -0.000006   \n",
       "\n",
       "         F8        F9    RMSD  \n",
       "0  0.001620 -0.022660  17.284  \n",
       "1 -0.001567  0.012166   6.021  \n",
       "2 -0.002072  0.012968   9.275  \n",
       "3  0.000001  0.013733  15.851  \n",
       "4 -0.001465  0.016303   7.962  "
      ]
     },
     "execution_count": 8,
     "metadata": {},
     "output_type": "execute_result"
    }
   ],
   "source": [
    "normalized_df.head()"
   ]
  },
  {
   "cell_type": "markdown",
   "id": "0ad61cba-fd5b-460f-8c3d-34f4747f92e9",
   "metadata": {},
   "source": [
    "Distribucion probabilistica de los features."
   ]
  },
  {
   "cell_type": "code",
   "execution_count": 22,
   "id": "387f3377-4c6d-4802-9cb9-75bbc8dd673c",
   "metadata": {
    "tags": []
   },
   "outputs": [
    {
     "data": {
      "text/html": [
       "<div>\n",
       "<style scoped>\n",
       "    .dataframe tbody tr th:only-of-type {\n",
       "        vertical-align: middle;\n",
       "    }\n",
       "\n",
       "    .dataframe tbody tr th {\n",
       "        vertical-align: top;\n",
       "    }\n",
       "\n",
       "    .dataframe thead th {\n",
       "        text-align: right;\n",
       "    }\n",
       "</style>\n",
       "<table border=\"1\" class=\"dataframe\">\n",
       "  <thead>\n",
       "    <tr style=\"text-align: right;\">\n",
       "      <th></th>\n",
       "      <th>F1</th>\n",
       "      <th>F2</th>\n",
       "      <th>F3</th>\n",
       "      <th>F4</th>\n",
       "      <th>F5</th>\n",
       "      <th>F6</th>\n",
       "      <th>F7</th>\n",
       "      <th>F8</th>\n",
       "      <th>F9</th>\n",
       "      <th>RMSD</th>\n",
       "    </tr>\n",
       "  </thead>\n",
       "  <tbody>\n",
       "    <tr>\n",
       "      <th>count</th>\n",
       "      <td>4.573000e+04</td>\n",
       "      <td>4.573000e+04</td>\n",
       "      <td>4.573000e+04</td>\n",
       "      <td>4.573000e+04</td>\n",
       "      <td>4.573000e+04</td>\n",
       "      <td>4.573000e+04</td>\n",
       "      <td>4.573000e+04</td>\n",
       "      <td>4.573000e+04</td>\n",
       "      <td>4.573000e+04</td>\n",
       "      <td>45730.000000</td>\n",
       "    </tr>\n",
       "    <tr>\n",
       "      <th>mean</th>\n",
       "      <td>-5.237197e-19</td>\n",
       "      <td>1.695032e-18</td>\n",
       "      <td>-2.632733e-14</td>\n",
       "      <td>2.600930e-17</td>\n",
       "      <td>1.949226e-21</td>\n",
       "      <td>1.541391e-17</td>\n",
       "      <td>-8.053947e-20</td>\n",
       "      <td>-1.334235e-19</td>\n",
       "      <td>-1.342439e-15</td>\n",
       "      <td>7.748528</td>\n",
       "    </tr>\n",
       "    <tr>\n",
       "      <th>std</th>\n",
       "      <td>2.497821e-05</td>\n",
       "      <td>6.530825e-05</td>\n",
       "      <td>1.731032e+00</td>\n",
       "      <td>2.707701e-03</td>\n",
       "      <td>1.827482e-07</td>\n",
       "      <td>1.671101e-03</td>\n",
       "      <td>9.438577e-06</td>\n",
       "      <td>2.857143e-03</td>\n",
       "      <td>1.808289e-02</td>\n",
       "      <td>6.118312</td>\n",
       "    </tr>\n",
       "    <tr>\n",
       "      <th>min</th>\n",
       "      <td>-4.603729e-05</td>\n",
       "      <td>-1.165774e-04</td>\n",
       "      <td>-5.777607e+00</td>\n",
       "      <td>-4.552277e-03</td>\n",
       "      <td>-3.398146e-07</td>\n",
       "      <td>-2.713603e-03</td>\n",
       "      <td>-1.888950e-05</td>\n",
       "      <td>-3.538973e-03</td>\n",
       "      <td>-5.835043e-02</td>\n",
       "      <td>0.000000</td>\n",
       "    </tr>\n",
       "    <tr>\n",
       "      <th>25%</th>\n",
       "      <td>-1.806468e-05</td>\n",
       "      <td>-4.630873e-05</td>\n",
       "      <td>-1.201587e+00</td>\n",
       "      <td>-1.950646e-03</td>\n",
       "      <td>-1.343655e-07</td>\n",
       "      <td>-1.214678e-03</td>\n",
       "      <td>-3.903280e-06</td>\n",
       "      <td>-1.971155e-03</td>\n",
       "      <td>-1.239526e-02</td>\n",
       "      <td>2.305000</td>\n",
       "    </tr>\n",
       "    <tr>\n",
       "      <th>50%</th>\n",
       "      <td>-5.987623e-06</td>\n",
       "      <td>-1.557471e-05</td>\n",
       "      <td>-6.171133e-02</td>\n",
       "      <td>-7.695214e-04</td>\n",
       "      <td>-4.246997e-08</td>\n",
       "      <td>-4.646203e-04</td>\n",
       "      <td>-7.082148e-07</td>\n",
       "      <td>-8.079355e-04</td>\n",
       "      <td>2.345538e-03</td>\n",
       "      <td>5.030000</td>\n",
       "    </tr>\n",
       "    <tr>\n",
       "      <th>75%</th>\n",
       "      <td>1.387698e-05</td>\n",
       "      <td>3.429898e-05</td>\n",
       "      <td>1.114775e+00</td>\n",
       "      <td>1.473142e-03</td>\n",
       "      <td>1.045293e-07</td>\n",
       "      <td>8.553847e-04</td>\n",
       "      <td>3.098429e-06</td>\n",
       "      <td>1.063331e-03</td>\n",
       "      <td>1.314582e-02</td>\n",
       "      <td>13.379000</td>\n",
       "    </tr>\n",
       "    <tr>\n",
       "      <th>max</th>\n",
       "      <td>1.856579e-04</td>\n",
       "      <td>5.483354e-04</td>\n",
       "      <td>7.578017e+00</td>\n",
       "      <td>1.298644e-02</td>\n",
       "      <td>1.329605e-06</td>\n",
       "      <td>1.080904e-02</td>\n",
       "      <td>4.827220e-04</td>\n",
       "      <td>1.416220e-02</td>\n",
       "      <td>6.283074e-02</td>\n",
       "      <td>20.999000</td>\n",
       "    </tr>\n",
       "  </tbody>\n",
       "</table>\n",
       "</div>"
      ],
      "text/plain": [
       "                 F1            F2            F3            F4            F5  \\\n",
       "count  4.573000e+04  4.573000e+04  4.573000e+04  4.573000e+04  4.573000e+04   \n",
       "mean  -5.237197e-19  1.695032e-18 -2.632733e-14  2.600930e-17  1.949226e-21   \n",
       "std    2.497821e-05  6.530825e-05  1.731032e+00  2.707701e-03  1.827482e-07   \n",
       "min   -4.603729e-05 -1.165774e-04 -5.777607e+00 -4.552277e-03 -3.398146e-07   \n",
       "25%   -1.806468e-05 -4.630873e-05 -1.201587e+00 -1.950646e-03 -1.343655e-07   \n",
       "50%   -5.987623e-06 -1.557471e-05 -6.171133e-02 -7.695214e-04 -4.246997e-08   \n",
       "75%    1.387698e-05  3.429898e-05  1.114775e+00  1.473142e-03  1.045293e-07   \n",
       "max    1.856579e-04  5.483354e-04  7.578017e+00  1.298644e-02  1.329605e-06   \n",
       "\n",
       "                 F6            F7            F8            F9          RMSD  \n",
       "count  4.573000e+04  4.573000e+04  4.573000e+04  4.573000e+04  45730.000000  \n",
       "mean   1.541391e-17 -8.053947e-20 -1.334235e-19 -1.342439e-15      7.748528  \n",
       "std    1.671101e-03  9.438577e-06  2.857143e-03  1.808289e-02      6.118312  \n",
       "min   -2.713603e-03 -1.888950e-05 -3.538973e-03 -5.835043e-02      0.000000  \n",
       "25%   -1.214678e-03 -3.903280e-06 -1.971155e-03 -1.239526e-02      2.305000  \n",
       "50%   -4.646203e-04 -7.082148e-07 -8.079355e-04  2.345538e-03      5.030000  \n",
       "75%    8.553847e-04  3.098429e-06  1.063331e-03  1.314582e-02     13.379000  \n",
       "max    1.080904e-02  4.827220e-04  1.416220e-02  6.283074e-02     20.999000  "
      ]
     },
     "execution_count": 22,
     "metadata": {},
     "output_type": "execute_result"
    }
   ],
   "source": [
    "normalized_df.describe()"
   ]
  },
  {
   "cell_type": "markdown",
   "id": "b9a9b4fd-65cb-49a7-8b2c-5e86db0d3bbb",
   "metadata": {},
   "source": [
    "### Dividimos nuestro data set\n",
    "Asignamos un 70% para train y un 15% para test y valid."
   ]
  },
  {
   "cell_type": "code",
   "execution_count": 161,
   "id": "438bf026-641a-4807-a26d-ea88c40bdd33",
   "metadata": {},
   "outputs": [],
   "source": [
    "df_train,df_aux=train_test_split(normalized_df, test_size=0.3, shuffle=True) \n",
    "df_test,df_val=train_test_split(df_aux, test_size=0.5, shuffle=True) \n",
    "X_train=df_train.drop(columns=\"RMSD\").values\n",
    "X_test=df_test.drop(columns=\"RMSD\").values\n",
    "y=df_RMSD.values\n",
    "y_train = df_train.RMSD.values\n",
    "y_test = df_test.RMSD.values"
   ]
  },
  {
   "cell_type": "code",
   "execution_count": 111,
   "id": "19dd56ba-3a7b-4267-a475-1217b0155ceb",
   "metadata": {},
   "outputs": [
    {
     "data": {
      "text/plain": [
       "array([17.284,  6.021,  9.275, ..., 10.356,  9.791, 18.827])"
      ]
     },
     "execution_count": 111,
     "metadata": {},
     "output_type": "execute_result"
    }
   ],
   "source": [
    "y"
   ]
  },
  {
   "cell_type": "code",
   "execution_count": 162,
   "id": "7bdf32fa-43ac-4680-9f4c-70f5057f18c3",
   "metadata": {},
   "outputs": [],
   "source": [
    "LR = LinearRegression()\n",
    "LR.fit(X_train,y_train)\n",
    "y_pred=LR.predict(X_test)"
   ]
  },
  {
   "cell_type": "markdown",
   "id": "63fb653a-43d7-4a91-abca-ba09e4bc8b74",
   "metadata": {},
   "source": [
    "### Predictor sin optimizaciones"
   ]
  },
  {
   "cell_type": "code",
   "execution_count": 163,
   "id": "10e2263b-dd95-4069-92f2-ff91191a7335",
   "metadata": {},
   "outputs": [
    {
     "name": "stdout",
     "output_type": "stream",
     "text": [
      "Los coeficientes obtenidos son: \n",
      " [ 2.61004768e+05  3.29132909e+04  6.35810526e-01 -2.18084042e+03\n",
      " -1.37613774e+07 -1.05712454e+03 -2.60069524e+04  2.95431804e+02\n",
      " -3.63698398e+01]\n",
      "MSE  \n",
      "27.42\n",
      "Score \n",
      "0.28\n"
     ]
    }
   ],
   "source": [
    "coef=LR.coef_\n",
    "MSE=mean_squared_error(y_test,y_pred)\n",
    "score=r2_score(y_test,y_pred)\n",
    "print(\"Los coeficientes obtenidos son: \\n\", coef)\n",
    "print(\"MSE  \\n%.2f\" % MSE)\n",
    "print(\"Score \\n%.2f\" % score)\n"
   ]
  },
  {
   "cell_type": "markdown",
   "id": "a9df8181-e22e-48d0-abc0-a54897a51aa3",
   "metadata": {},
   "source": [
    "Los resultados obtenidos ($MSE=27.42$ y un $score=0.28$) son malos, de ahi la necesidad de optimizacion usando features polinomiales para una mejor aproximacion."
   ]
  },
  {
   "cell_type": "markdown",
   "id": "82535dac-3518-45c8-912a-b0428d743b7f",
   "metadata": {},
   "source": [
    "### Features polinomiales\n",
    "Defino los features polinomiales a usar y busco cual es el que mejor resultado dado mi data frame."
   ]
  },
  {
   "cell_type": "code",
   "execution_count": 175,
   "id": "3e10c234-1266-484c-b676-96c2e715db51",
   "metadata": {
    "tags": []
   },
   "outputs": [
    {
     "name": "stdout",
     "output_type": "stream",
     "text": [
      "Para un orden 1\n",
      " MSE: 26.883806 \n",
      " Score 0.284245 \n",
      " \n",
      "Para un orden 2\n",
      " MSE: 24.197869 \n",
      " Score 0.355756 \n",
      " \n",
      "Para un orden 3\n",
      " MSE: 23.430014 \n",
      " Score 0.376199 \n",
      " \n",
      "Para un orden 4\n",
      " MSE: 34.945097 \n",
      " Score 0.069621 \n",
      " \n",
      "Para un orden 5\n",
      " MSE: 52.213734 \n",
      " Score -0.390139 \n",
      " \n"
     ]
    }
   ],
   "source": [
    "give_me_my_best_poly_order()"
   ]
  },
  {
   "cell_type": "code",
   "execution_count": 174,
   "id": "38c3dd6f-6d00-4d7f-aeb4-ed6388be6e60",
   "metadata": {},
   "outputs": [],
   "source": [
    "def give_me_my_best_poly_order():\n",
    "    for i in range(1,6):      \n",
    "        poly=PolynomialFeatures(i)\n",
    "        poly_feat=poly.fit_transform(normalized_df.drop(columns=\"RMSD\").values)\n",
    "        #we split and shuffle the data set in every iteration\n",
    "        X_train,X_aux,y_train,y_aux=train_test_split(poly_feat,y, test_size=0.3, shuffle=False, random_state=42) \n",
    "        X_test,X_val,y_test, y_val=train_test_split(X_aux,y_aux, test_size=0.5, shuffle=False, random_state=42) \n",
    "        LR = LinearRegression()\n",
    "        LR.fit(X_train, y_train)\n",
    "        y_pred=LR.predict(X_val)\n",
    "        print(\"Para un orden %i\\n MSE: %f \\n Score %f \\n \" % (i, mean_squared_error(y_val,y_pred), r2_score(y_val,y_pred)))\n",
    " \n",
    "        "
   ]
  },
  {
   "cell_type": "markdown",
   "id": "740396c5-a27e-4355-881f-779d536312e4",
   "metadata": {},
   "source": [
    "### Test\n",
    "Elegimos features polinomiales de orden 3 por ser los que mejor optimizan el MSE y el score. Aplicamos dichos features en el test data set"
   ]
  },
  {
   "cell_type": "code",
   "execution_count": 178,
   "id": "e9dc917b-c83d-4ed3-be75-accb0e36ae80",
   "metadata": {},
   "outputs": [
    {
     "name": "stdout",
     "output_type": "stream",
     "text": [
      "Para un orden 3\n",
      " MSE: 22.256534 \n",
      " Score 0.424631 \n",
      " \n"
     ]
    }
   ],
   "source": [
    "        poly=PolynomialFeatures(3)\n",
    "        poly_feat=poly.fit_transform(normalized_df.drop(columns=\"RMSD\").values)\n",
    "        X_train,X_aux,y_train,y_aux=train_test_split(poly_feat,y, test_size=0.3, shuffle=False, random_state=42) \n",
    "        X_test,X_val,y_test, y_val=train_test_split(X_aux,y_aux, test_size=0.5, shuffle= False, random_state=42) \n",
    "        LR = LinearRegression()\n",
    "        LR.fit(X_train, y_train)\n",
    "        y_pred=LR.predict(X_test)\n",
    "        print(\"Para un orden %i\\n MSE: %f \\n Score %f \\n \" % (3, mean_squared_error(y_test,y_pred), r2_score(y_test,y_pred)))"
   ]
  },
  {
   "cell_type": "markdown",
   "id": "61aa8844-01e8-4d49-b750-24b233cdd736",
   "metadata": {},
   "source": [
    "Se obtiene un $MSE=22.25$ y un $score=0.42$, mejorando sustancialmente respecto de la primera iteracion sin features polinomiales.\n"
   ]
  }
 ],
 "metadata": {
  "kernelspec": {
   "display_name": "Python 3 (ipykernel)",
   "language": "python",
   "name": "python3"
  },
  "language_info": {
   "codemirror_mode": {
    "name": "ipython",
    "version": 3
   },
   "file_extension": ".py",
   "mimetype": "text/x-python",
   "name": "python",
   "nbconvert_exporter": "python",
   "pygments_lexer": "ipython3",
   "version": "3.9.12"
  }
 },
 "nbformat": 4,
 "nbformat_minor": 5
}
